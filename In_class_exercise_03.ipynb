{
  "nbformat": 4,
  "nbformat_minor": 0,
  "metadata": {
    "kernelspec": {
      "display_name": "Python 3",
      "language": "python",
      "name": "python3"
    },
    "language_info": {
      "codemirror_mode": {
        "name": "ipython",
        "version": 3
      },
      "file_extension": ".py",
      "mimetype": "text/x-python",
      "name": "python",
      "nbconvert_exporter": "python",
      "pygments_lexer": "ipython3",
      "version": "3.7.4"
    },
    "colab": {
      "name": "In-class-exercise-03.ipynb",
      "provenance": [],
      "collapsed_sections": [],
      "include_colab_link": true
    }
  },
  "cells": [
    {
      "cell_type": "markdown",
      "metadata": {
        "id": "view-in-github",
        "colab_type": "text"
      },
      "source": [
        "<a href=\"https://colab.research.google.com/github/vamel19/INFO5731_FALL2020/blob/master/In_class_exercise_03.ipynb\" target=\"_parent\"><img src=\"https://colab.research.google.com/assets/colab-badge.svg\" alt=\"Open In Colab\"/></a>"
      ]
    },
    {
      "cell_type": "markdown",
      "metadata": {
        "id": "rUajrtNs4Y4U",
        "colab_type": "text"
      },
      "source": [
        "## The third In-class-exercise (9/16/2020, 20 points in total)"
      ]
    },
    {
      "cell_type": "markdown",
      "metadata": {
        "id": "dB0dUmbU4Y4W",
        "colab_type": "text"
      },
      "source": [
        "The purpose of this exercise is to under users' information needs, then collect the data for analysis."
      ]
    },
    {
      "cell_type": "markdown",
      "metadata": {
        "id": "RYvR-k1E4Y4X",
        "colab_type": "text"
      },
      "source": [
        "Question 1 (8 points): Describe an interesting research question (or practical question) you have in mind, what kind of data should be collected to answer the question(s)? How many data needed for the analysis? The detail steps for collecting and save the data. "
      ]
    },
    {
      "cell_type": "code",
      "metadata": {
        "id": "kokoHdSI4Y4X",
        "colab_type": "code",
        "colab": {}
      },
      "source": [
        "# Your answer here (no code for this question, write down your answer as detail as possible for the above questions):\n",
        "\n",
        "'''\n",
        "It is now common for individuals to use Twitter to seek quick information. Twitter is a social media platform that allow users\n",
        "to share and discuss information topics. \n",
        "An interesting research question I have in mind is to analyze trending tweets related to hashtag \"#libraryscience\". \n",
        "The data will be compiled from Twitter and Sentiment Analysis will be used for this research topic.\n",
        "\n",
        "I will be extracting the hashtag \"#libraryscience\" to analyze the trend of tweets regarding Library Science.\n",
        "GetOldTweets3 will be used to extract tweets.\n",
        "\n",
        "\n",
        "\n",
        "\n",
        "'''"
      ],
      "execution_count": null,
      "outputs": []
    },
    {
      "cell_type": "markdown",
      "metadata": {
        "id": "4cMek0C_4Y4b",
        "colab_type": "text"
      },
      "source": [
        "Question 2 (12 points): Write python code to collect 500 items of the data you plan to collect above."
      ]
    },
    {
      "cell_type": "code",
      "metadata": {
        "id": "QsXv8nz24Y4c",
        "colab_type": "code",
        "colab": {
          "base_uri": "https://localhost:8080/",
          "height": 85
        },
        "outputId": "f859d5a3-9e92-4dd2-9f31-8096f96366fe"
      },
      "source": [
        "!pip install GetOldTweets3\n"
      ],
      "execution_count": 22,
      "outputs": [
        {
          "output_type": "stream",
          "text": [
            "Requirement already satisfied: GetOldTweets3 in /usr/local/lib/python3.6/dist-packages (0.0.11)\n",
            "Requirement already satisfied: pyquery>=1.2.10 in /usr/local/lib/python3.6/dist-packages (from GetOldTweets3) (1.4.1)\n",
            "Requirement already satisfied: lxml>=3.5.0 in /usr/local/lib/python3.6/dist-packages (from GetOldTweets3) (4.2.6)\n",
            "Requirement already satisfied: cssselect>0.7.9 in /usr/local/lib/python3.6/dist-packages (from pyquery>=1.2.10->GetOldTweets3) (1.1.0)\n"
          ],
          "name": "stdout"
        }
      ]
    },
    {
      "cell_type": "code",
      "metadata": {
        "id": "K0nU4G8s7Lzb",
        "colab_type": "code",
        "colab": {}
      },
      "source": [
        "import pandas as pd\n",
        "import GetOldTweets3 as got\n",
        "\n",
        "def get_twitter_info():\n",
        "    tweet_df[\"tweet_text\"] = tweet_df[\"got_criteria\"].apply(lambda x: x.text)\n",
        "    tweet_df[\"date\"] = tweet_df[\"got_criteria\"].apply(lambda x: x.date)\n",
        "    tweet_df[\"hashtags\"] = tweet_df[\"got_criteria\"].apply(lambda x: x.hashtags)\n",
        "\n",
        "keyword = \"#libraryscience\"                 #keyword \n",
        "oldest_date = \"2019-09-12\"                  #oldest date for extraction\n",
        "newest_date = \"2020-09-17\"                  #newest date for extraction\n",
        "locations =[\"New York City\", \"Chicago\"]     #location \n",
        "\n",
        "number_tweets =500\n",
        "\n",
        "#get old tweets\n",
        "tweetCriteria_list = []\n",
        "for location in locations:    \n",
        "    try:\n",
        "        tweetCriteria = got.manager.TweetCriteria().setQuerySearch(keyword).setSince(oldest_date).setUntil(newest_date).setNear(location).setMaxTweets(number_tweets)\n",
        "    except:\n",
        "        continue   \n",
        "#create twitter info for each city\n",
        "tweet_dict = {}                   \n",
        "for criteria, location in zip(tweetCriteria_list, locations):\n",
        "    tweets = got.manager.TweetManager.getTweets(criteria)\n",
        "    tweet_dict[location] = tweets\n",
        "    \n",
        "#create df\n",
        "tweet_df = pd.DataFrame(dict([ (k,pd.Series(v)) for k,v in tweet_dict.items() ]))\n",
        "tweet_df['tweet_count'] = tweet_df.index\n",
        "tweet_df = pd.melt(tweet_df, id_vars=[\"tweet_count\"], var_name='City', value_name='got_criteria')\n",
        "tweet_df = tweet_df.dropna()\n",
        "\n",
        "#extract twitter information\n",
        "get_twitter_info()\n",
        "tweet_df = tweet_df.drop(\"got_criteria\", 1)\n",
        "tweet_df.head()\n",
        "\n",
        "#export the frame to a csv file\n",
        "tweet_df.to_csv(\"US_results.csv\")"
      ],
      "execution_count": 23,
      "outputs": []
    },
    {
      "cell_type": "code",
      "metadata": {
        "id": "EfpR4z0A7P7t",
        "colab_type": "code",
        "colab": {
          "base_uri": "https://localhost:8080/",
          "height": 49
        },
        "outputId": "9cd77d4f-2122-45af-a24c-4c5e2231ce5b"
      },
      "source": [
        "tweet_df"
      ],
      "execution_count": 24,
      "outputs": [
        {
          "output_type": "execute_result",
          "data": {
            "text/html": [
              "<div>\n",
              "<style scoped>\n",
              "    .dataframe tbody tr th:only-of-type {\n",
              "        vertical-align: middle;\n",
              "    }\n",
              "\n",
              "    .dataframe tbody tr th {\n",
              "        vertical-align: top;\n",
              "    }\n",
              "\n",
              "    .dataframe thead th {\n",
              "        text-align: right;\n",
              "    }\n",
              "</style>\n",
              "<table border=\"1\" class=\"dataframe\">\n",
              "  <thead>\n",
              "    <tr style=\"text-align: right;\">\n",
              "      <th></th>\n",
              "      <th>tweet_count</th>\n",
              "      <th>City</th>\n",
              "      <th>tweet_text</th>\n",
              "      <th>date</th>\n",
              "      <th>hashtags</th>\n",
              "    </tr>\n",
              "  </thead>\n",
              "  <tbody>\n",
              "  </tbody>\n",
              "</table>\n",
              "</div>"
            ],
            "text/plain": [
              "Empty DataFrame\n",
              "Columns: [tweet_count, City, tweet_text, date, hashtags]\n",
              "Index: []"
            ]
          },
          "metadata": {
            "tags": []
          },
          "execution_count": 24
        }
      ]
    }
  ]
}